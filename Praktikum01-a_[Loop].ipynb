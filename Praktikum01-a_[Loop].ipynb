{
  "nbformat": 4,
  "nbformat_minor": 0,
  "metadata": {
    "colab": {
      "provenance": []
    },
    "kernelspec": {
      "name": "python3",
      "display_name": "Python 3"
    },
    "language_info": {
      "name": "python"
    }
  },
  "cells": [
    {
      "cell_type": "code",
      "execution_count": null,
      "metadata": {
        "id": "5qfMQ6Gak4QR",
        "outputId": "b16d4ce5-c1fe-4985-ddc0-5a44094967b7",
        "colab": {
          "base_uri": "https://localhost:8080/"
        }
      },
      "outputs": [
        {
          "name": "stdout",
          "output_type": "stream",
          "text": [
            "Masukkan nilai N: 12\n"
          ]
        }
      ],
      "source": [
        "nilai=int(input(\"Masukkan nilai N: \"))\n",
        "\n",
        "huruf=1\n",
        "angka=nilai-1\n",
        "#PROGRAM\n",
        "while huruf>0:\n",
        "    if nilai%angka==0:\n",
        "        print(\"benar\")\n",
        "        huruf-=1\n",
        "\n",
        "    else:\n",
        "        huruf=1"
      ]
    }
  ]
}